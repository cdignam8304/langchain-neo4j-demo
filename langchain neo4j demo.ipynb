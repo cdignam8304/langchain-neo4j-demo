{
 "cells": [
  {
   "cell_type": "markdown",
   "id": "96bceee4",
   "metadata": {},
   "source": [
    "## Libraries"
   ]
  },
  {
   "cell_type": "code",
   "execution_count": 16,
   "id": "257b4d0a",
   "metadata": {},
   "outputs": [],
   "source": [
    "from langchain_community.graphs import Neo4jGraph\n",
    "from langchain.chains import GraphCypherQAChain\n",
    "from langchain_openai import ChatOpenAI"
   ]
  },
  {
   "cell_type": "markdown",
   "id": "1ae709f0",
   "metadata": {},
   "source": [
    "## Get api and connection details"
   ]
  },
  {
   "cell_type": "markdown",
   "id": "4825939e",
   "metadata": {},
   "source": [
    "### Neo4j"
   ]
  },
  {
   "cell_type": "code",
   "execution_count": 4,
   "id": "69001cde",
   "metadata": {},
   "outputs": [],
   "source": [
    "# Open the file and read the lines\n",
    "with open('neo4j_connection_details.txt', 'r') as file:\n",
    "    lines = file.readlines()\n",
    "\n",
    "# Initialize variables\n",
    "neo4j_uri = \"\"\n",
    "neo4j_username = \"\"\n",
    "neo4j_password = \"\"\n",
    "\n",
    "# Process each line to extract the values\n",
    "for line in lines:\n",
    "    # Remove any leading/trailing whitespace\n",
    "    line = line.strip()\n",
    "    if line.startswith(\"NEO4J_URI\"):\n",
    "        # Extract the URI\n",
    "        neo4j_uri = line.split('=')[1].strip().strip('\"')\n",
    "    elif line.startswith(\"NEO4J_USERNAME\"):\n",
    "        # Extract the username\n",
    "        neo4j_username = line.split('=')[1].strip().strip('\"')\n",
    "    elif line.startswith(\"NEO4J_PASSWORD\"):\n",
    "        # Extract the password\n",
    "        neo4j_password = line.split('=')[1].strip().strip('\"')\n",
    "\n",
    "# Display the extracted values\n",
    "# print(f\"NEO4J_URI: {neo4j_uri}\")\n",
    "# print(f\"NEO4J_USERNAME: {neo4j_username}\")\n",
    "# print(f\"NEO4J_PASSWORD: {neo4j_password}\")\n"
   ]
  },
  {
   "cell_type": "code",
   "execution_count": 8,
   "id": "3aca79db",
   "metadata": {},
   "outputs": [],
   "source": [
    "graph = Neo4jGraph(\n",
    "    url=neo4j_uri,\n",
    "    username=neo4j_username,\n",
    "    password=neo4j_password,\n",
    ")"
   ]
  },
  {
   "cell_type": "code",
   "execution_count": 15,
   "id": "7467e3fc",
   "metadata": {},
   "outputs": [
    {
     "name": "stdout",
     "output_type": "stream",
     "text": [
      "Node properties:\n",
      "Entity {name: STRING, nameEmbedding: LIST}\n",
      "Chunk {id: STRING, text: STRING, embedding: LIST}\n",
      "Relationship properties:\n",
      "\n",
      "The relationships:\n",
      "(:Entity)-[:does not regulate]->(:Entity)\n",
      "(:Entity)-[:defines]->(:Entity)\n",
      "(:Entity)-[:regulates]->(:Entity)\n",
      "(:Entity)-[:used in]->(:Entity)\n",
      "(:Entity)-[:imposes obligations on]->(:Entity)\n",
      "(:Entity)-[:obligates transparency to]->(:Entity)\n",
      "(:Entity)-[:interacts with]->(:Entity)\n",
      "(:Entity)-[:includes]->(:Entity)\n",
      "(:Entity)-[:is part of]->(:Entity)\n",
      "(:Entity)-[:provide]->(:Entity)\n",
      "(:Entity)-[:produce]->(:Entity)\n",
      "(:Entity)-[:monitors]->(:Entity)\n",
      "(:Entity)-[:evaluates]->(:Entity)\n",
      "(:Entity)-[:is basis for]->(:Entity)\n",
      "(:Entity)-[:can be integrated into]->(:Entity)\n",
      "(:Entity)-[:applies to]->(:Entity)\n",
      "(:Entity)-[:helps ensure]->(:Entity)\n",
      "(:Entity)-[:used by]->(:Entity)\n",
      "(:Entity)-[:infer]->(:Entity)\n",
      "(:Entity)-[:manages]->(:Entity)\n",
      "(:Entity)-[:prioritizes]->(:Entity)\n",
      "(:Entity)-[:use]->(:Entity)\n",
      "(:Entity)-[:assesses risk of]->(:Entity)\n",
      "(:Entity)-[:conducts]->(:Entity)\n",
      "(:Entity)-[:uses]->(:Entity)\n",
      "(:Entity)-[:assesses]->(:Entity)\n",
      "(:Entity)-[:examines]->(:Entity)\n",
      "(:Entity)-[:influence]->(:Entity)\n",
      "(:Entity)-[:organize]->(:Entity)\n",
      "(:Entity)-[:draw up]->(:Entity)\n"
     ]
    }
   ],
   "source": [
    "print(graph.schema)"
   ]
  },
  {
   "cell_type": "code",
   "execution_count": 13,
   "id": "0c18949e",
   "metadata": {},
   "outputs": [],
   "source": [
    "get_all_nodes = \"\"\"\n",
    "MATCH (n) RETURN n.name;\n",
    "\"\"\""
   ]
  },
  {
   "cell_type": "code",
   "execution_count": 14,
   "id": "597e1316",
   "metadata": {},
   "outputs": [
    {
     "data": {
      "text/plain": [
       "[{'n.name': 'AI Act'},\n",
       " {'n.name': 'high-risk AI systems'},\n",
       " {'n.name': 'limited risk AI systems'},\n",
       " {'n.name': 'minimal risk AI systems'},\n",
       " {'n.name': 'generative AI'},\n",
       " {'n.name': 'third country providers'},\n",
       " {'n.name': 'AI Office'},\n",
       " {'n.name': 'GPAI model'},\n",
       " {'n.name': 'GPAI system'},\n",
       " {'n.name': 'Copyright Directive'},\n",
       " {'n.name': 'technical documentation'},\n",
       " {'n.name': 'adversarial testing'},\n",
       " {'n.name': 'real-time remote biometric identification'},\n",
       " {'n.name': 'biometric categorisation systems'},\n",
       " {'n.name': 'emotion recognition systems'},\n",
       " {'n.name': 'critical digital infrastructure'},\n",
       " {'n.name': 'employment'},\n",
       " {'n.name': 'self-employment'},\n",
       " {'n.name': 'public authorities'},\n",
       " {'n.name': 'creditworthiness'},\n",
       " {'n.name': 'emergency calls'},\n",
       " {'n.name': 'health and life insurance'},\n",
       " {'n.name': 'law enforcement'},\n",
       " {'n.name': 'migration'},\n",
       " {'n.name': 'border control management'},\n",
       " {'n.name': 'democratic processes'},\n",
       " {'n.name': 'political campaigns'},\n",
       " {'n.name': 'scientific panel of independent experts'},\n",
       " {'n.name': 'AI'},\n",
       " {'n.name': 'providers'},\n",
       " {'n.name': 'developers'},\n",
       " {'n.name': 'deployers'},\n",
       " {'n.name': 'end-users'},\n",
       " {'n.name': 'AI enabled video games'},\n",
       " {'n.name': 'spam filters'},\n",
       " {'n.name': 'AI applications'},\n",
       " {'n.name': 'EU'},\n",
       " {'n.name': 'AI system’s output'},\n",
       " {'n.name': 'AI system'},\n",
       " {'n.name': 'GPAI model providers'},\n",
       " {'n.name': 'cybersecurity protections'},\n",
       " {'n.name': 'sensitive attributes'},\n",
       " {'n.name': 'educational institutions'},\n",
       " {'n.name': 'road traffic'},\n",
       " {'n.name': 'supply of water'},\n",
       " {'n.name': 'gas'},\n",
       " {'n.name': 'heating'},\n",
       " {'n.name': 'electricity'},\n",
       " {'n.name': 'workers'},\n",
       " {'n.name': 'benefits'},\n",
       " {'n.name': 'services'},\n",
       " {'n.name': 'financial fraud'},\n",
       " {'n.name': 'police'},\n",
       " {'n.name': 'firefighters'},\n",
       " {'n.name': 'medical aid'},\n",
       " {'n.name': 'urgent patient triage services'},\n",
       " {'n.name': 'risk assessments'},\n",
       " {'n.name': 'crime victim'},\n",
       " {'n.name': 'polygraphs'},\n",
       " {'n.name': 'criminal investigations'},\n",
       " {'n.name': 'prosecutions'},\n",
       " {'n.name': 'offending'},\n",
       " {'n.name': 're-offending'},\n",
       " {'n.name': 'assessments of irregular migration'},\n",
       " {'n.name': 'health risks'},\n",
       " {'n.name': 'applications for asylum'},\n",
       " {'n.name': 'visa'},\n",
       " {'n.name': 'residence permits'},\n",
       " {'n.name': 'elections'},\n",
       " {'n.name': 'referenda outcomes'},\n",
       " {'n.name': 'voting behaviour'},\n",
       " {'n.name': 'codes of practice'},\n",
       " {'n.name': 'downstream providers'},\n",
       " {'n.name': 'European harmonised standards'},\n",
       " {'n.name': None},\n",
       " {'n.name': None},\n",
       " {'n.name': None},\n",
       " {'n.name': None},\n",
       " {'n.name': None},\n",
       " {'n.name': None},\n",
       " {'n.name': None},\n",
       " {'n.name': None},\n",
       " {'n.name': None},\n",
       " {'n.name': None},\n",
       " {'n.name': None},\n",
       " {'n.name': None},\n",
       " {'n.name': None},\n",
       " {'n.name': None},\n",
       " {'n.name': None},\n",
       " {'n.name': None},\n",
       " {'n.name': None},\n",
       " {'n.name': None},\n",
       " {'n.name': None},\n",
       " {'n.name': None},\n",
       " {'n.name': None},\n",
       " {'n.name': None},\n",
       " {'n.name': None},\n",
       " {'n.name': None},\n",
       " {'n.name': None},\n",
       " {'n.name': None},\n",
       " {'n.name': None},\n",
       " {'n.name': None},\n",
       " {'n.name': None},\n",
       " {'n.name': None},\n",
       " {'n.name': None},\n",
       " {'n.name': None},\n",
       " {'n.name': None},\n",
       " {'n.name': None},\n",
       " {'n.name': None},\n",
       " {'n.name': None},\n",
       " {'n.name': None},\n",
       " {'n.name': None},\n",
       " {'n.name': None},\n",
       " {'n.name': None},\n",
       " {'n.name': None},\n",
       " {'n.name': None},\n",
       " {'n.name': None},\n",
       " {'n.name': None},\n",
       " {'n.name': None},\n",
       " {'n.name': None},\n",
       " {'n.name': None},\n",
       " {'n.name': None},\n",
       " {'n.name': None},\n",
       " {'n.name': None},\n",
       " {'n.name': None},\n",
       " {'n.name': None},\n",
       " {'n.name': None},\n",
       " {'n.name': None},\n",
       " {'n.name': None},\n",
       " {'n.name': None},\n",
       " {'n.name': None},\n",
       " {'n.name': None},\n",
       " {'n.name': None},\n",
       " {'n.name': None},\n",
       " {'n.name': None},\n",
       " {'n.name': None},\n",
       " {'n.name': None},\n",
       " {'n.name': None},\n",
       " {'n.name': None},\n",
       " {'n.name': None},\n",
       " {'n.name': None},\n",
       " {'n.name': None},\n",
       " {'n.name': None},\n",
       " {'n.name': None},\n",
       " {'n.name': None},\n",
       " {'n.name': None},\n",
       " {'n.name': None},\n",
       " {'n.name': None}]"
      ]
     },
     "execution_count": 14,
     "metadata": {},
     "output_type": "execute_result"
    }
   ],
   "source": [
    "graph.query(get_all_nodes)"
   ]
  },
  {
   "cell_type": "markdown",
   "id": "330d8aca",
   "metadata": {},
   "source": [
    "### OpenAI"
   ]
  },
  {
   "cell_type": "code",
   "execution_count": 5,
   "id": "61e41948",
   "metadata": {},
   "outputs": [],
   "source": [
    "# Open the file and read the first line\n",
    "with open('openai_api_key.txt', 'r') as file:\n",
    "    # Read the first line and strip any leading/trailing whitespace\n",
    "    openai_api_key = file.readline().strip()\n",
    "\n",
    "# Save the value to the variable OPENAI_API_KEY\n",
    "OPENAI_API_KEY = openai_api_key\n",
    "\n",
    "# Display the extracted API key (optional, for verification)\n",
    "# print(f\"OPENAI_API_KEY: {OPENAI_API_KEY}\")\n"
   ]
  },
  {
   "cell_type": "code",
   "execution_count": 48,
   "id": "f9d6462a",
   "metadata": {},
   "outputs": [
    {
     "name": "stdout",
     "output_type": "stream",
     "text": [
      "\n",
      "\n",
      "\u001b[1m> Entering new GraphCypherQAChain chain...\u001b[0m\n",
      "Generated Cypher:\n",
      "\u001b[32;1m\u001b[1;3mcypher\n",
      "MATCH (e:Entity {name: \"very urgent calls\"})-[:prioritizes]->(target:Entity)\n",
      "RETURN target.name\n",
      "\u001b[0m\n",
      "Full Context:\n",
      "\u001b[32;1m\u001b[1;3m[]\u001b[0m\n",
      "\n",
      "\u001b[1m> Finished chain.\u001b[0m\n"
     ]
    },
    {
     "data": {
      "text/plain": [
       "{'query': 'What do very urgent calls prioritize?',\n",
       " 'result': \"I don't know the answer.\"}"
      ]
     },
     "execution_count": 48,
     "metadata": {},
     "output_type": "execute_result"
    }
   ],
   "source": [
    "llm = ChatOpenAI(\n",
    "    api_key=OPENAI_API_KEY,\n",
    "    model=\"gpt-4o\",\n",
    "    temperature=0,\n",
    ")\n",
    "\n",
    "chain = GraphCypherQAChain.from_llm(\n",
    "    graph=graph,\n",
    "    llm=llm,\n",
    "    verbose=True,\n",
    "    validate_cypher=True,\n",
    ")\n",
    "# query = \"What does law enforcement conduct? Please return the name properties but not the embeddings.\"  # GOOD\n",
    "# query = \"What do public authorities provide?\"  # GOOD\n",
    "# query = \"What do emergency calls prioritize?\"  # GOOD\n",
    "query = \"What do very urgent calls prioritize?\"  # FAIL\n",
    "# query = \"What prioritizes medical aid?\"  # GOOD\n",
    "# query = \"What is the Act about?\"  # FAIL\n",
    "response = chain.invoke({\"query\": query})\n",
    "response"
   ]
  },
  {
   "cell_type": "code",
   "execution_count": 37,
   "id": "7ff974b9",
   "metadata": {},
   "outputs": [],
   "source": [
    "?ChatOpenAI"
   ]
  },
  {
   "cell_type": "code",
   "execution_count": null,
   "id": "7c96c1e8",
   "metadata": {},
   "outputs": [],
   "source": []
  }
 ],
 "metadata": {
  "kernelspec": {
   "display_name": "Python 3 (ipykernel)",
   "language": "python",
   "name": "python3"
  },
  "language_info": {
   "codemirror_mode": {
    "name": "ipython",
    "version": 3
   },
   "file_extension": ".py",
   "mimetype": "text/x-python",
   "name": "python",
   "nbconvert_exporter": "python",
   "pygments_lexer": "ipython3",
   "version": "3.11.6"
  }
 },
 "nbformat": 4,
 "nbformat_minor": 5
}
